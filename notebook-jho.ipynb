{
 "cells": [
  {
   "cell_type": "markdown",
   "id": "9f5f35c6",
   "metadata": {},
   "source": [
    "## Baixa conteudo da web e salva em disco"
   ]
  },
  {
   "cell_type": "code",
   "execution_count": 3,
   "id": "cb1d6fe3",
   "metadata": {},
   "outputs": [],
   "source": [
    "## Baixa conteudo da web e salva em disco\n",
    "import requests\n",
    "import os\n",
    "\n",
    "def create_directory_if_not_exists(directory_path):\n",
    "    if not os.path.exists(directory_path):\n",
    "        os.makedirs(directory_path)\n",
    "\n",
    "def get_file_name(url:str, response:requests.Response) -> str:\n",
    "        file_name = 'download'\n",
    "        if 'Content-Disposition' in response.headers:\n",
    "            content_disposition = response.headers.get('Content-Disposition')\n",
    "            file_name = content_disposition.split('filename=')[1].strip('\"')\n",
    "        else:\n",
    "            file_name = url.split(\"/\")[-1]\n",
    "        return file_name\n",
    "\n",
    "def generate_available_filename(directory, filename):\n",
    "\n",
    "    name, extension = os.path.splitext(filename)\n",
    "    file_path = os.path.join(directory, filename)\n",
    "    counter = 1\n",
    "\n",
    "    while os.path.exists(file_path):\n",
    "        new_filename = f\"{name} ({counter}){extension}\"\n",
    "        file_path = os.path.join(directory, new_filename)\n",
    "        counter += 1\n",
    "\n",
    "    return file_path\n",
    "\n",
    "def download(url:str, directory:str=os.getcwd()) -> str:\n",
    "    try:\n",
    "        response = requests.get(url)\n",
    "        response.raise_for_status()\n",
    "        file_name = generate_available_filename(directory, get_file_name(url, response))\n",
    "        create_directory_if_not_exists(directory)\n",
    "        with open(generate_available_filename(directory, get_file_name(url, response)), \"wb\") as file:\n",
    "            file.write(response.content)\n",
    "\n",
    "        return file_name\n",
    "\n",
    "    except Exception as e:\n",
    "        print(f\"Ocorreu um erro: {e}\")\n",
    "        raise e"
   ]
  },
  {
   "cell_type": "markdown",
   "id": "49062341",
   "metadata": {},
   "source": [
    "## UNZIP"
   ]
  },
  {
   "cell_type": "code",
   "execution_count": 7,
   "id": "fcdf753c",
   "metadata": {},
   "outputs": [],
   "source": [
    "## UNZIP\n",
    "import zipfile\n",
    "\n",
    "def unzip(zip_path, dataset_unzip_directory, file_to_extract) -> str:\n",
    "    with zipfile.ZipFile(zip_path, 'r') as zip_ref:\n",
    "        return zip_ref.extract(file_to_extract, dataset_unzip_directory"
   ]
  },
  {
   "cell_type": "code",
   "execution_count": 14,
   "id": "32f28eab",
   "metadata": {},
   "outputs": [],
   "source": [
    "##Remove File\n",
    "\n",
    "import os\n",
    "\n",
    "def remove_file(caminho_arquivo):\n",
    "    if os.path.exists(caminho_arquivo):\n",
    "        os.remove(caminho_arquivo)\n",
    "        print(f\"Arquivo '{caminho_arquivo}' deletado com sucesso.\")\n",
    "    else:\n",
    "        print(f\"Arquivo '{caminho_arquivo}' não encontrado.\")"
   ]
  },
  {
   "cell_type": "code",
   "execution_count": null,
   "id": "514fcc57",
   "metadata": {},
   "outputs": [],
   "source": [
    "# dataset_directory = os.path.join(os.getcwd(), \"dataset\")\n",
    "\n",
    "# #Resultados\n",
    "# download(\"https://cdn.tse.jus.br/estatistica/sead/eleicoes/eleicoes2022/Historico_Totalizacao_Presidente_BR_1T_2022.zip\", dataset_directory)\n",
    "\n",
    "# #Canditados\n",
    "# download(\"https://cdn.tse.jus.br/estatistica/sead/odsele/consulta_cand/consulta_cand_2022.zip\", dataset_directory)"
   ]
  },
  {
   "cell_type": "markdown",
   "id": "19c9530f",
   "metadata": {},
   "source": [
    "## CANDIDATOS\n",
    "\n",
    "Prepara dataset para ser ingerido pelo notebook"
   ]
  },
  {
   "cell_type": "code",
   "execution_count": 20,
   "id": "99758ce8",
   "metadata": {},
   "outputs": [
    {
     "name": "stdout",
     "output_type": "stream",
     "text": [
      "Arquivo 'c:\\Users\\jhona\\Desktop\\Workspace\\pucrs\\coleta preparacao e analise de dados\\TF\\data-processing-tse-study\\dataset/candidatos\\consulta_cand_2022.zip' deletado com sucesso.\n"
     ]
    }
   ],
   "source": [
    "## CANDIDATOS\n",
    "\n",
    "URL = 'https://cdn.tse.jus.br/estatistica/sead/odsele/consulta_cand/consulta_cand_2022.zip'\n",
    "\n",
    "dataset_directory = os.path.join(os.getcwd(), \"dataset/candidatos\")\n",
    "dataset_unzip_directory= os.path.join(dataset_directory, \"unzip\")\n",
    "\n",
    "zip_path = download(URL, dataset_directory)\n",
    "file_to_extract = \"consulta_cand_2022_BRASIL.csv\"\n",
    "\n",
    "teste = unzip(zip_path, dataset_unzip_directory, file_to_extract)\n",
    "\n",
    "remove_file(zip_path)"
   ]
  },
  {
   "cell_type": "code",
   "execution_count": null,
   "id": "8ef29b93",
   "metadata": {},
   "outputs": [],
   "source": []
  }
 ],
 "metadata": {
  "kernelspec": {
   "display_name": "Python 3",
   "language": "python",
   "name": "python3"
  },
  "language_info": {
   "codemirror_mode": {
    "name": "ipython",
    "version": 3
   },
   "file_extension": ".py",
   "mimetype": "text/x-python",
   "name": "python",
   "nbconvert_exporter": "python",
   "pygments_lexer": "ipython3",
   "version": "3.13.0"
  }
 },
 "nbformat": 4,
 "nbformat_minor": 5
}
