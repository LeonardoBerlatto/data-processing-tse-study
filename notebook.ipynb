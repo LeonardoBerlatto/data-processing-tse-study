{
 "cells": [
  {
   "cell_type": "code",
   "execution_count": 14,
   "id": "08786eaf",
   "metadata": {},
   "outputs": [],
   "source": [
    "## Baixa conteudo da web e salva em disco\n",
    "import requests\n",
    "import os\n",
    "\n",
    "import os\n",
    "\n",
    "def create_directory_if_not_exists(directory_path):\n",
    "    if not os.path.exists(directory_path):\n",
    "        os.makedirs(directory_path)\n",
    "\n",
    "def get_file_name(url:str, response:requests.Response) -> str:\n",
    "        file_name = 'download'\n",
    "        if 'Content-Disposition' in response.headers:\n",
    "            content_disposition = response.headers.get('Content-Disposition')\n",
    "            file_name = content_disposition.split('filename=')[1].strip('\"')\n",
    "        else:\n",
    "            file_name = url.split(\"/\")[-1]\n",
    "        return file_name\n",
    "\n",
    "def generate_available_filename(directory, filename):\n",
    "\n",
    "    name, extension = os.path.splitext(filename)\n",
    "    file_path = os.path.join(directory, filename)\n",
    "    counter = 1\n",
    "\n",
    "    while os.path.exists(file_path):\n",
    "        new_filename = f\"{name} ({counter}){extension}\"\n",
    "        file_path = os.path.join(directory, new_filename)\n",
    "        counter += 1\n",
    "\n",
    "    return file_path\n",
    "\n",
    "def download(url:str, directory:str=os.getcwd()) -> str:\n",
    "    try:\n",
    "        response = requests.get(url)\n",
    "        response.raise_for_status()\n",
    "        file_name = generate_available_filename(directory, get_file_name(url, response))\n",
    "        create_directory_if_not_exists(directory)\n",
    "        with open(generate_available_filename(directory, get_file_name(url, response)), \"wb\") as file:\n",
    "            file.write(response.content)\n",
    "\n",
    "        return file_name\n",
    "\n",
    "    except Exception as e:\n",
    "        print(f\"Ocorreu um erro: {e}\")\n",
    "        raise e"
   ]
  },
  {
   "cell_type": "code",
   "execution_count": null,
   "id": "7b5cc3d0",
   "metadata": {},
   "outputs": [],
   "source": [
    "dataset_directory = os.path.join(os.getcwd(), \"dataset\")\n",
    "\n",
    "#Resultados\n",
    "download(\"https://cdn.tse.jus.br/estatistica/sead/eleicoes/eleicoes2022/Historico_Totalizacao_Presidente_BR_1T_2022.zip\", dataset_directory)\n",
    "\n",
    "#Canditados\n",
    "download(\"https://cdn.tse.jus.br/estatistica/sead/odsele/consulta_cand/consulta_cand_2022.zip\", dataset_directory)"
   ]
  },
  {
   "cell_type": "markdown",
   "id": "8a77807f92f26ee",
   "metadata": {},
   "source": [
    "# Quais fatores econômicos ou sociais lavam a um maior sucesso eleitoral dos candidatos?\n",
    "\n",
    "### Datasets Utilizados\n",
    "* Candidatos\n",
    "* Eleições\n",
    "* Resultados de Eleições"
   ]
  },
  {
   "cell_type": "markdown",
   "id": "e048c9f3e7e1b428",
   "metadata": {},
   "source": [
    "## Importando Bibliotecas"
   ]
  },
  {
   "cell_type": "code",
   "execution_count": 1,
   "id": "6cad185960931dae",
   "metadata": {
    "ExecuteTime": {
     "end_time": "2024-09-26T00:30:45.230066Z",
     "start_time": "2024-09-26T00:30:44.601098Z"
    }
   },
   "outputs": [],
   "source": [
    "import pandas as pd"
   ]
  },
  {
   "cell_type": "markdown",
   "id": "7e29ae6d2f572383",
   "metadata": {},
   "source": [
    "## Dados"
   ]
  },
  {
   "cell_type": "markdown",
   "id": "9da9dc5867036f55",
   "metadata": {},
   "source": [
    "### Candidatos"
   ]
  },
  {
   "cell_type": "code",
   "execution_count": null,
   "id": "fbc121e30a2defb3",
   "metadata": {
    "ExecuteTime": {
     "end_time": "2024-09-26T00:31:55.865429Z",
     "start_time": "2024-09-26T00:31:55.810328Z"
    }
   },
   "outputs": [],
   "source": [
    "candidatos_df = pd.read_csv('datasets/cand_rs_2022.csv', encoding='latin1', sep=';')\n",
    "\n",
    "candidatos_df.head()"
   ]
  },
  {
   "cell_type": "code",
   "execution_count": null,
   "id": "d370b1843b477ea2",
   "metadata": {
    "ExecuteTime": {
     "end_time": "2024-09-26T00:30:45.353926Z",
     "start_time": "2024-09-26T00:30:45.349856Z"
    }
   },
   "outputs": [],
   "source": [
    "candidatos_df.columns\n"
   ]
  },
  {
   "cell_type": "code",
   "execution_count": null,
   "id": "a8585bb46be38ed7",
   "metadata": {},
   "outputs": [],
   "source": [
    "CANDIDATOS_FEATURES = [\n",
    "    'NM_CANDIDATO',\n",
    "    'TP_ABRANGENCIA_ELEICAO',\n",
    "    'DS_CARGO',\n",
    "    'NR_TURNO',\n",
    "    'NR_CANDIDATO',\n",
    "    'SG_PARTIDO',\n",
    "    'NR_PARTIDO',\n",
    "    'CD_ELEICAO',\n",
    "    'SG_UF',\n",
    "    'SQ_CANDIDATO',\n",
    "    'DT_NASCIMENTO', # transformar em idade\n",
    "    # variáveis categóricas interessantes\n",
    "    'DS_GENERO',\n",
    "    'DS_GRAU_INSTRUCAO',\n",
    "    'DS_ESTADO_CIVIL',\n",
    "    'DS_COR_RACA',\n",
    "    'DS_OCUPACAO',\n",
    "    'DS_SIT_TOT_TURNO', \n",
    "]"
   ]
  },
  {
   "cell_type": "markdown",
   "id": "62d79081f5ac8b74",
   "metadata": {},
   "source": [
    "### Despesas Candidatos"
   ]
  },
  {
   "cell_type": "code",
   "execution_count": null,
   "id": "81a7ac163900a340",
   "metadata": {
    "ExecuteTime": {
     "end_time": "2024-09-26T00:30:46.232065Z",
     "start_time": "2024-09-26T00:30:45.394510Z"
    }
   },
   "outputs": [],
   "source": [
    "pd.read_csv('datasets/desp_cand_contratadas_2022.csv', encoding='latin1', sep=';').head()"
   ]
  },
  {
   "cell_type": "code",
   "execution_count": null,
   "id": "d0af8bb2b53b40ad",
   "metadata": {
    "ExecuteTime": {
     "end_time": "2024-09-26T00:30:46.798721Z",
     "start_time": "2024-09-26T00:30:46.276439Z"
    }
   },
   "outputs": [],
   "source": [
    "pd.read_csv('datasets/desp_cand_pagas_2022.csv', encoding='latin1', sep=';').head()"
   ]
  },
  {
   "cell_type": "code",
   "execution_count": null,
   "id": "5e20078403aa279d",
   "metadata": {
    "ExecuteTime": {
     "end_time": "2024-09-26T00:30:46.855846Z",
     "start_time": "2024-09-26T00:30:46.853184Z"
    }
   },
   "outputs": [],
   "source": []
  }
 ],
 "metadata": {
  "kernelspec": {
   "display_name": "Python 3",
   "language": "python",
   "name": "python3"
  },
  "language_info": {
   "codemirror_mode": {
    "name": "ipython",
    "version": 3
   },
   "file_extension": ".py",
   "mimetype": "text/x-python",
   "name": "python",
   "nbconvert_exporter": "python",
   "pygments_lexer": "ipython3",
   "version": "3.12.6"
  }
 },
 "nbformat": 4,
 "nbformat_minor": 5
}
