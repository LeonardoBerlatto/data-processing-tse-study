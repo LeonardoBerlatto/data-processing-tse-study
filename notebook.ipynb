{
 "cells": [
  {
   "cell_type": "code",
   "execution_count": 14,
   "id": "08786eaf",
   "metadata": {},
   "outputs": [],
   "source": [
    "## Baixa conteudo da web e salva em disco\n",
    "import requests\n",
    "import os\n",
    "\n",
    "import os\n",
    "\n",
    "def create_directory_if_not_exists(directory_path):\n",
    "    if not os.path.exists(directory_path):\n",
    "        os.makedirs(directory_path)\n",
    "\n",
    "def get_file_name(url:str, response:requests.Response) -> str:\n",
    "        file_name = 'download'\n",
    "        if 'Content-Disposition' in response.headers:\n",
    "            content_disposition = response.headers.get('Content-Disposition')\n",
    "            file_name = content_disposition.split('filename=')[1].strip('\"')\n",
    "        else:\n",
    "            file_name = url.split(\"/\")[-1]\n",
    "        return file_name\n",
    "\n",
    "def generate_available_filename(directory, filename):\n",
    "\n",
    "    name, extension = os.path.splitext(filename)\n",
    "    file_path = os.path.join(directory, filename)\n",
    "    counter = 1\n",
    "\n",
    "    while os.path.exists(file_path):\n",
    "        new_filename = f\"{name} ({counter}){extension}\"\n",
    "        file_path = os.path.join(directory, new_filename)\n",
    "        counter += 1\n",
    "\n",
    "    return file_path\n",
    "\n",
    "def download(url:str, directory:str=os.getcwd()) -> str:\n",
    "    try:\n",
    "        response = requests.get(url)\n",
    "        response.raise_for_status()\n",
    "        file_name = generate_available_filename(directory, get_file_name(url, response))\n",
    "        create_directory_if_not_exists(directory)\n",
    "        with open(generate_available_filename(directory, get_file_name(url, response)), \"wb\") as file:\n",
    "            file.write(response.content)\n",
    "\n",
    "        return file_name\n",
    "\n",
    "    except Exception as e:\n",
    "        print(f\"Ocorreu um erro: {e}\")\n",
    "        raise e"
   ]
  },
  {
   "cell_type": "code",
   "execution_count": null,
   "id": "7b5cc3d0",
   "metadata": {},
   "outputs": [],
   "source": [
    "dataset_directory = os.path.join(os.getcwd(), \"dataset\")\n",
    "\n",
    "#Resultados\n",
    "download(\"https://cdn.tse.jus.br/estatistica/sead/eleicoes/eleicoes2022/Historico_Totalizacao_Presidente_BR_1T_2022.zip\", dataset_directory)\n",
    "\n",
    "#Canditados\n",
    "download(\"https://cdn.tse.jus.br/estatistica/sead/odsele/consulta_cand/consulta_cand_2022.zip\", dataset_directory)"
   ]
  },
  {
   "cell_type": "markdown",
   "id": "8a77807f92f26ee",
   "metadata": {},
   "source": [
    "# Quais fatores econômicos ou sociais lavam a um maior sucesso eleitoral dos candidatos?\n",
    "\n",
    "### Datasets Utilizados\n",
    "* Candidatos\n",
    "* Eleições\n",
    "* Resultados de Eleições"
   ]
  },
  {
   "cell_type": "markdown",
   "id": "e048c9f3e7e1b428",
   "metadata": {},
   "source": [
    "## Importando Bibliotecas"
   ]
  },
  {
   "cell_type": "code",
   "execution_count": 20,
   "id": "6cad185960931dae",
   "metadata": {
    "ExecuteTime": {
     "end_time": "2024-10-16T22:59:22.662107Z",
     "start_time": "2024-10-16T22:59:22.659198Z"
    }
   },
   "outputs": [],
   "source": [
    "import pandas as pd\n",
    "import matplotlib.pyplot as plt\n",
    "import seaborn as sns"
   ]
  },
  {
   "cell_type": "markdown",
   "id": "7e29ae6d2f572383",
   "metadata": {},
   "source": [
    "## Dados"
   ]
  },
  {
   "cell_type": "markdown",
   "id": "9da9dc5867036f55",
   "metadata": {},
   "source": [
    "### Candidatos"
   ]
  },
  {
   "cell_type": "code",
   "execution_count": null,
   "id": "fbc121e30a2defb3",
   "metadata": {
    "ExecuteTime": {
     "end_time": "2024-10-16T22:59:24.281793Z",
     "start_time": "2024-10-16T22:59:24.261155Z"
    }
   },
   "outputs": [],
   "source": [
    "candidatos_df = pd.read_parquet('datasets/consulta_cand_2022/consulta_cand_2022_RS.parquet')\n",
    "\n",
    "candidatos_df.head()"
   ]
  },
  {
   "cell_type": "code",
   "execution_count": null,
   "id": "d370b1843b477ea2",
   "metadata": {
    "ExecuteTime": {
     "end_time": "2024-10-16T22:59:24.311509Z",
     "start_time": "2024-10-16T22:59:24.307864Z"
    }
   },
   "outputs": [],
   "source": [
    "candidatos_df.columns"
   ]
  },
  {
   "cell_type": "code",
   "execution_count": 23,
   "id": "a8585bb46be38ed7",
   "metadata": {
    "ExecuteTime": {
     "end_time": "2024-10-16T22:59:24.391875Z",
     "start_time": "2024-10-16T22:59:24.389555Z"
    }
   },
   "outputs": [],
   "source": [
    "CANDIDATOS_FEATURES = [\n",
    "    'NM_CANDIDATO',\n",
    "    'TP_ABRANGENCIA_ELEICAO',\n",
    "    'DS_CARGO',\n",
    "    'NR_TURNO',\n",
    "    'NR_CANDIDATO',\n",
    "    'SG_PARTIDO',\n",
    "    'NR_PARTIDO',\n",
    "    'CD_ELEICAO',\n",
    "    'SG_UF',\n",
    "    'SQ_CANDIDATO',\n",
    "    'DT_NASCIMENTO',  # transformar em idade\n",
    "    # variáveis categóricas interessantes\n",
    "    'DS_GENERO',\n",
    "    'DS_GRAU_INSTRUCAO',\n",
    "    'DS_ESTADO_CIVIL',\n",
    "    'DS_COR_RACA',\n",
    "    'DS_OCUPACAO',\n",
    "    'DS_SIT_TOT_TURNO',\n",
    "]"
   ]
  },
  {
   "cell_type": "code",
   "execution_count": 24,
   "id": "2a959df05d72246b",
   "metadata": {
    "ExecuteTime": {
     "end_time": "2024-10-16T22:59:24.473565Z",
     "start_time": "2024-10-16T22:59:24.469128Z"
    }
   },
   "outputs": [],
   "source": [
    "candidatos = candidatos_df[CANDIDATOS_FEATURES]"
   ]
  },
  {
   "cell_type": "markdown",
   "id": "62d79081f5ac8b74",
   "metadata": {},
   "source": [
    "### Despesas Contratadas Candidatos\n",
    "\n",
    "Gastos de um candidato com sua campanha eleitoral."
   ]
  },
  {
   "cell_type": "code",
   "execution_count": 25,
   "id": "81a7ac163900a340",
   "metadata": {
    "ExecuteTime": {
     "end_time": "2024-10-16T22:59:25.870953Z",
     "start_time": "2024-10-16T22:59:25.349296Z"
    }
   },
   "outputs": [],
   "source": [
    "despessas_contratadas_df = pd.read_parquet('datasets/prestacao_contas_2022/despesas_contratadas_candidatos_2022_RS.parquet')"
   ]
  },
  {
   "cell_type": "code",
   "execution_count": null,
   "id": "b1d20e530aa54baf",
   "metadata": {
    "ExecuteTime": {
     "end_time": "2024-10-16T22:59:26.764954Z",
     "start_time": "2024-10-16T22:59:26.749797Z"
    }
   },
   "outputs": [],
   "source": [
    "despessas_contratadas_df.head()"
   ]
  },
  {
   "cell_type": "code",
   "execution_count": null,
   "id": "707baa0a6ff146ab",
   "metadata": {
    "ExecuteTime": {
     "end_time": "2024-10-16T22:59:27.812571Z",
     "start_time": "2024-10-16T22:59:27.807725Z"
    }
   },
   "outputs": [],
   "source": [
    "despessas_contratadas_df.columns"
   ]
  },
  {
   "cell_type": "code",
   "execution_count": 28,
   "id": "61dc1dd1f4abcb41",
   "metadata": {
    "ExecuteTime": {
     "end_time": "2024-10-16T22:59:27.855882Z",
     "start_time": "2024-10-16T22:59:27.853034Z"
    }
   },
   "outputs": [],
   "source": [
    "DESPESAS_CONTRATA_FEATURES = [\n",
    "    'SQ_CANDIDATO',\n",
    "    'NR_PARTIDO',\n",
    "    'SG_PARTIDO',\n",
    "    'NM_PARTIDO',\n",
    "    'CD_TIPO_FORNECEDOR',\n",
    "    'DS_TIPO_FORNECEDOR',\n",
    "    'CD_ESFERA_PART_FORNECEDOR',\n",
    "    'DS_ESFERA_PART_FORNECEDOR',\n",
    "    'SG_UF_FORNECEDOR',\n",
    "    'CD_ORIGEM_DESPESA',\n",
    "    'DS_ORIGEM_DESPESA',\n",
    "    'DT_DESPESA',\n",
    "    'DS_DESPESA',\n",
    "    'SQ_DESPESA',\n",
    "    'VR_DESPESA_CONTRATADA'\n",
    "]\n",
    "\n"
   ]
  },
  {
   "cell_type": "code",
   "execution_count": 29,
   "id": "e78228aa66f73ec2",
   "metadata": {
    "ExecuteTime": {
     "end_time": "2024-10-16T22:59:27.877806Z",
     "start_time": "2024-10-16T22:59:27.862849Z"
    }
   },
   "outputs": [],
   "source": [
    "despesas_contratadas = despessas_contratadas_df[DESPESAS_CONTRATA_FEATURES]"
   ]
  },
  {
   "cell_type": "markdown",
   "id": "d7cae785b21f9bcc",
   "metadata": {},
   "source": [
    "### Despesas Pagas Candidatos\n",
    "\n",
    "O que de fato foi pago pelo candidato de todas suas despesas eleitorais."
   ]
  },
  {
   "cell_type": "code",
   "execution_count": null,
   "id": "d0af8bb2b53b40ad",
   "metadata": {
    "ExecuteTime": {
     "end_time": "2024-10-16T22:59:29.238841Z",
     "start_time": "2024-10-16T22:59:28.883153Z"
    }
   },
   "outputs": [],
   "source": [
    "despessas_pagas_df = pd.read_parquet('datasets/prestacao_contas_2022/despesas_pagas_candidatos_2022_RS.parquet')\n",
    "despessas_pagas_df.head()"
   ]
  },
  {
   "cell_type": "code",
   "execution_count": null,
   "id": "5e20078403aa279d",
   "metadata": {
    "ExecuteTime": {
     "end_time": "2024-10-16T22:59:30.228134Z",
     "start_time": "2024-10-16T22:59:30.223683Z"
    }
   },
   "outputs": [],
   "source": [
    "\n",
    "despessas_pagas_df.columns"
   ]
  },
  {
   "cell_type": "code",
   "execution_count": 32,
   "id": "a279bb3202c688c",
   "metadata": {
    "ExecuteTime": {
     "end_time": "2024-10-16T22:59:30.265536Z",
     "start_time": "2024-10-16T22:59:30.263406Z"
    }
   },
   "outputs": [],
   "source": [
    "DESPESAS_PAGAS_FEATURES = [\n",
    "    'SQ_PRESTADOR_CONTAS',\n",
    "    'DT_PAGTO_DESPESA',\n",
    "    'DS_DESPESA',\n",
    "    'SQ_DESPESA',\n",
    "    'VR_PAGTO_DESPESA'\n",
    "]"
   ]
  },
  {
   "cell_type": "code",
   "execution_count": 33,
   "id": "b81a87e56f97eeaa",
   "metadata": {
    "ExecuteTime": {
     "end_time": "2024-10-16T22:59:30.297701Z",
     "start_time": "2024-10-16T22:59:30.288933Z"
    }
   },
   "outputs": [],
   "source": [
    "despesas_pagas = despessas_pagas_df[DESPESAS_PAGAS_FEATURES]"
   ]
  },
  {
   "cell_type": "markdown",
   "id": "d7e5ab2534ae111b",
   "metadata": {},
   "source": [
    "### Resultados Eleições\n",
    "\n",
    "Contagem dos votos de cada candidato no boletim de urna."
   ]
  },
  {
   "cell_type": "code",
   "execution_count": 34,
   "id": "524c358efdfe6336",
   "metadata": {
    "ExecuteTime": {
     "end_time": "2024-10-16T22:59:45.696480Z",
     "start_time": "2024-10-16T22:59:33.122993Z"
    }
   },
   "outputs": [],
   "source": [
    "resultados_df = pd.read_parquet('datasets/boletins_urna_2022/bweb_1t_RS_051020221321.parquet')"
   ]
  },
  {
   "cell_type": "code",
   "execution_count": null,
   "id": "7de6743d7faf289d",
   "metadata": {
    "ExecuteTime": {
     "end_time": "2024-10-16T22:59:45.722935Z",
     "start_time": "2024-10-16T22:59:45.713238Z"
    }
   },
   "outputs": [],
   "source": [
    "resultados_df.head()"
   ]
  },
  {
   "cell_type": "code",
   "execution_count": null,
   "id": "86c774013355c1a",
   "metadata": {
    "ExecuteTime": {
     "end_time": "2024-10-16T22:59:46.566867Z",
     "start_time": "2024-10-16T22:59:46.563124Z"
    }
   },
   "outputs": [],
   "source": [
    "resultados_df.columns"
   ]
  },
  {
   "cell_type": "code",
   "execution_count": 37,
   "id": "5b03216cbebe6505",
   "metadata": {
    "ExecuteTime": {
     "end_time": "2024-10-16T22:59:46.609398Z",
     "start_time": "2024-10-16T22:59:46.606594Z"
    }
   },
   "outputs": [],
   "source": [
    "RESULTADOS_FEATURES = [\n",
    "    'NR_TURNO',\n",
    "    'CD_ELEICAO',\n",
    "    'NR_VOTAVEL',\n",
    "    'SG_PARTIDO',\n",
    "    'NR_PARTIDO',\n",
    "    'CD_MUNICIPIO',\n",
    "    'NR_ZONA',\n",
    "    'NR_SECAO',\n",
    "    'QT_VOTOS' # o que realmente queremos, computar agrupando por candidato, turno e eleição\n",
    "]"
   ]
  },
  {
   "cell_type": "code",
   "execution_count": 38,
   "id": "b728ddab3e33796b",
   "metadata": {
    "ExecuteTime": {
     "end_time": "2024-10-16T22:59:46.725574Z",
     "start_time": "2024-10-16T22:59:46.645726Z"
    }
   },
   "outputs": [],
   "source": [
    "resultados = resultados_df[RESULTADOS_FEATURES]"
   ]
  },
  {
   "cell_type": "markdown",
   "id": "8f0f6a355fb605c9",
   "metadata": {},
   "source": [
    "## Análise Exploratória de Dados (EDA)"
   ]
  },
  {
   "cell_type": "markdown",
   "id": "7a278faf165c14b1",
   "metadata": {},
   "source": [
    "### Candidatos"
   ]
  },
  {
   "cell_type": "markdown",
   "id": "4bdd6f2954b6d376",
   "metadata": {},
   "source": [
    "### Despesas"
   ]
  },
  {
   "cell_type": "markdown",
   "id": "733317bb402aa564",
   "metadata": {},
   "source": [
    "### Resultados"
   ]
  },
  {
   "cell_type": "code",
   "execution_count": null,
   "id": "cfc2c899d29e1b4b",
   "metadata": {
    "ExecuteTime": {
     "end_time": "2024-10-16T23:33:56.230056Z",
     "start_time": "2024-10-16T23:33:55.513778Z"
    }
   },
   "outputs": [],
   "source": [
    "votos_por_candidato = resultados_df.groupby(['NR_TURNO', 'CD_ELEICAO','DS_CARGO_PERGUNTA', 'NM_VOTAVEL', 'NR_VOTAVEL'])['QT_VOTOS'].sum().reset_index()\n",
    "\n",
    "votos_por_candidato.head()"
   ]
  },
  {
   "cell_type": "code",
   "execution_count": null,
   "id": "543cba2e0f0410cf",
   "metadata": {
    "ExecuteTime": {
     "end_time": "2024-10-16T23:33:57.932468Z",
     "start_time": "2024-10-16T23:33:57.923469Z"
    }
   },
   "outputs": [],
   "source": [
    "top_10_votos = votos_por_candidato.sort_values(by='QT_VOTOS', ascending=False).head(10)\n",
    "\n",
    "top_10_votos"
   ]
  },
  {
   "cell_type": "markdown",
   "id": "a2ab50dad95a53a0",
   "metadata": {},
   "source": [
    "#### Candidatos mais votados"
   ]
  },
  {
   "cell_type": "code",
   "execution_count": 41,
   "id": "acf510837bd62485",
   "metadata": {
    "ExecuteTime": {
     "end_time": "2024-10-16T23:34:02.491078Z",
     "start_time": "2024-10-16T23:34:02.480461Z"
    }
   },
   "outputs": [],
   "source": [
    "cargos = [\"Presidente\", \"Governador\", \"Senador\", \"Deputado Federal\", \"Deputado Estadual\"]\n",
    "\n",
    "top_10_votos_por_cargo = {}\n",
    "\n",
    "for cargo in cargos:\n",
    "    top_10_votos_por_cargo[cargo] = votos_por_candidato[votos_por_candidato['DS_CARGO_PERGUNTA'] == cargo].sort_values(by='QT_VOTOS', ascending=False).head(5)"
   ]
  },
  {
   "cell_type": "code",
   "execution_count": null,
   "id": "8426188b3b1cac2f",
   "metadata": {
    "ExecuteTime": {
     "end_time": "2024-10-16T23:34:05.350803Z",
     "start_time": "2024-10-16T23:34:05.344909Z"
    }
   },
   "outputs": [],
   "source": [
    "top_10_votos_por_cargo['Deputado Estadual']\n"
   ]
  },
  {
   "cell_type": "code",
   "execution_count": null,
   "id": "69657760fbaf97a3",
   "metadata": {
    "ExecuteTime": {
     "end_time": "2024-10-16T23:34:07.967148Z",
     "start_time": "2024-10-16T23:34:07.552255Z"
    }
   },
   "outputs": [],
   "source": [
    "\n",
    "\n",
    "fig, axes = plt.subplots(2, 2, figsize=(20, 15))\n",
    "\n",
    "axes = axes.flatten()\n",
    "\n",
    "for i, cargo in enumerate(cargos):\n",
    "    data = top_10_votos_por_cargo[cargo]\n",
    "    labels = data['NM_VOTAVEL']\n",
    "    sizes = data['QT_VOTOS']\n",
    "    \n",
    "    sns.barplot(x=labels, y=sizes, palette='viridis', hue=labels, ax=axes[i])\n",
    "    axes[i].set_title(f'Candidatos mais votados - {cargo}')\n",
    "    axes[i].set_xlabel('Candidatos')\n",
    "    axes[i].set_ylabel('Numero de Votos')\n",
    "    axes[i].tick_params(axis='x', rotation=90)\n",
    "\n",
    "plt.tight_layout()\n",
    "plt.show()"
   ]
  },
  {
   "cell_type": "markdown",
   "id": "c5c7bfd45b434bbf",
   "metadata": {},
   "source": [
    "### Municipios com mais votos brancos e nulos"
   ]
  },
  {
   "cell_type": "code",
   "execution_count": null,
   "id": "5cda4a4fa3e4bcb4",
   "metadata": {
    "ExecuteTime": {
     "end_time": "2024-10-16T23:29:48.890777Z",
     "start_time": "2024-10-16T23:29:48.213160Z"
    }
   },
   "outputs": [],
   "source": [
    "abstencoes_df = resultados_df[resultados_df['NM_VOTAVEL'].isin(['Branco', 'Nulo'])]\n",
    "\n",
    "abstencoes_por_municipio = abstencoes_df.groupby(['NM_MUNICIPIO', 'NM_VOTAVEL'])['QT_VOTOS'].sum().reset_index()\n",
    "\n",
    "abstencoes_por_municipio = abstencoes_por_municipio.sort_values(by='QT_VOTOS', ascending=False)\n",
    "\n",
    "top_5_cities = abstencoes_por_municipio.groupby('NM_MUNICIPIO')['QT_VOTOS'].sum().nlargest(5).index\n",
    "\n",
    "top_5_abstencoes = abstencoes_por_municipio[abstencoes_por_municipio['NM_MUNICIPIO'].isin(top_5_cities)]\n",
    "\n",
    "# Plot the data\n",
    "plt.figure(figsize=(14, 7))\n",
    "sns.barplot(x='NM_MUNICIPIO', y='QT_VOTOS', hue='NM_VOTAVEL', data=top_5_abstencoes, palette='viridis')\n",
    "plt.title('Número de Abstenções por Município')\n",
    "plt.xlabel('Município')\n",
    "plt.ylabel('Número de Votos')\n",
    "plt.xticks(rotation=90)\n",
    "plt.tight_layout()\n",
    "plt.show()"
   ]
  },
  {
   "cell_type": "markdown",
   "id": "f5f74747996f878e",
   "metadata": {},
   "source": [
    "### Partidos com mais votos (Deputado Federal e Estadual)"
   ]
  },
  {
   "cell_type": "code",
   "execution_count": null,
   "id": "f883c473afbcbc6a",
   "metadata": {
    "ExecuteTime": {
     "end_time": "2024-10-16T23:44:42.781794Z",
     "start_time": "2024-10-16T23:44:40.151327Z"
    }
   },
   "outputs": [],
   "source": [
    "partidos = [partido for partido in resultados_df['SG_PARTIDO'].unique() if partido != '#NULO#']\n",
    "\n",
    "\n",
    "votos_deputados = resultados_df[resultados_df['DS_CARGO_PERGUNTA'].isin(['Deputado Federal', 'Deputado Estadual'])].query('SG_PARTIDO in @partidos')\n",
    "\n",
    "\n",
    "votos_por_partido = votos_deputados.groupby(['NR_TURNO', 'CD_ELEICAO', 'SG_PARTIDO'])['QT_VOTOS'].sum().reset_index().sort_values(by='QT_VOTOS', ascending=False)\n",
    "\n",
    "top_5_partidos = votos_por_partido.groupby('SG_PARTIDO')['QT_VOTOS'].sum().nlargest(5).index\n",
    "\n",
    "top_5_votos_partidos = votos_por_partido[votos_por_partido['SG_PARTIDO'].isin(top_5_partidos)]\n",
    "\n",
    "\n",
    "plt.figure(figsize=(14, 7))\n",
    "sns.barplot(x='SG_PARTIDO', y='QT_VOTOS', hue='SG_PARTIDO', data=top_5_votos_partidos, palette='viridis')\n",
    "\n",
    "plt.title('Número de Votos por Partido')\n",
    "plt.xlabel('Partido')\n",
    "plt.ylabel('Número de Votos')\n",
    "plt.xticks(rotation=90)\n",
    "plt.tight_layout()\n",
    "plt.show()\n"
   ]
  }
 ],
 "metadata": {
  "kernelspec": {
   "display_name": "Python 3",
   "language": "python",
   "name": "python3"
  },
  "language_info": {
   "codemirror_mode": {
    "name": "ipython",
    "version": 3
   },
   "file_extension": ".py",
   "mimetype": "text/x-python",
   "name": "python",
   "nbconvert_exporter": "python",
   "pygments_lexer": "ipython3",
   "version": "3.12.6"
  }
 },
 "nbformat": 4,
 "nbformat_minor": 5
}
